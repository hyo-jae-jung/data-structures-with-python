{
 "cells": [
  {
   "cell_type": "markdown",
   "id": "18efa68c",
   "metadata": {},
   "source": [
    "### 알고리즘 특징\n",
    "\n",
    "|type|prim|kruskal|\n",
    "|---|---|---|\n",
    "|시간 복잡도|O(ElogV) 또는 O(V2)<br>(우선순위 큐 사용 시 O(ElogV)인접 행렬 사용 시 O(V2))|O(ElogE) 또는 O(ElogV)<br>(간선 정렬에 $O(E log E)$가 소요되고, 유니온-파인드 연산은 거의 상수 시간)|\n",
    "|적합한 그래프|밀집 그래프(Dense Graph)에 유리<br>(E가 V2에 가까운 경우)|희소 그래프(Sparse Graph)에 유리<br>(E가 V에 가까운 경우)|\n",
    "|특징|항상 연결된 부분 트리를 유지하며 성장|간선을 추가할 때마다 여러 개의 분리된 부분 트리가 만들어지다가 최종적으로 하나의 MST로 병합|\n",
    "|핵심 연산|우선순위 큐로 인접 간선 중 가장 가벼운 간선 찾기|간선 정렬 및 유니온-파인드(사이클 확인)|"
   ]
  }
 ],
 "metadata": {
  "language_info": {
   "name": "python"
  }
 },
 "nbformat": 4,
 "nbformat_minor": 5
}
