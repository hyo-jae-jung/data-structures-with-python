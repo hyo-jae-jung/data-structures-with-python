{
 "cells": [
  {
   "cell_type": "markdown",
   "id": "66b5071a",
   "metadata": {},
   "source": [
    "### MST  \n",
    "신장 트리(Spanning Tree) : 사이클 없는 연결된 그래프  \n",
    "최소 비용 신장 트리(Minimum Cost Tree) : 무방향 그래프면서 에지에 가중치(비용)가 있을 때 비용을 최소로 모든 노드를 연결하는 그래프  "
   ]
  },
  {
   "cell_type": "markdown",
   "id": "7aaf7cad",
   "metadata": {},
   "source": [
    "### 탐욕 알고리즘(Greedy)\n",
    "\n",
    "탐욕 알고리즘은 지역 최적해를 합쳐 나가면 전역 최적해에 도달한다는 것  \n",
    "\n",
    "탐욕 알고리즘 제약 조건  \n",
    " 1. 최적 부분 구조(optimal substructure)  \n",
    "    - 어떤 전체 문제에 대한 최적해는 부분 문제(subproblem)에 대한 최적해를 포함  \n",
    " 2. 탐욕 선택 특성(greedy choice property)  \n",
    "    - 부분적으로 최적의 선택을 계속 하면 전역적인 최적해에 도달  \n",
    "    \n",
    " 크루스칼 알고리즘이나 프림 알고리즘 모두 탐욕 알고리즘  "
   ]
  },
  {
   "cell_type": "markdown",
   "id": "74fe0d2f",
   "metadata": {},
   "source": [
    "G = (E,V), G는 그래프  \n",
    "V(G)는 정점 집합  \n",
    "E(G)는 에지 집합  \n",
    "S는 정점 집합 V(G)의 부분 집합  \n",
    "\n",
    "### 컷 프로퍼티(cut property)  \n",
    "    :컷 cut(S, V-S)에서  \n",
    "    에지 e = (u,v)의 가중치 weight(u,v)가 가장 작다면  \n",
    "    (u는 S의 원소, v는 V-S의 원소)  \n",
    "    에지 e는 E(T)의 원소  \n",
    "    (T는 그래프 G의 MST)  \n",
    "\n",
    "\n",
    "### 알고리즘  \n",
    "1. 에지 집합 E의 어떤 원소도 가르지 않는 컷 cut(S, V-S) 찾기  \n",
    "2. 횡단 에지 중 가중치가 가장 작은 에지 e를 찾아 에지 집합 E에 추가(E = E ∪ {e})  \n",
    "3. 1과 2를 트리가 될 때까지 실행  "
   ]
  }
 ],
 "metadata": {
  "language_info": {
   "name": "python"
  }
 },
 "nbformat": 4,
 "nbformat_minor": 5
}
