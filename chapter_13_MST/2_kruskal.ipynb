{
 "cells": [
  {
   "cell_type": "markdown",
   "id": "336c33c3",
   "metadata": {},
   "source": [
    "### 크루스칼 알고리즘  \n",
    "\n",
    "#### 조건  \n",
    ">무방향 그래프  \n",
    "component는 하나(모든 정점이 연결된 상태)  \n",
    "\n",
    "1. 노드들을 각각 포함하는 두 집합이 서로소이면서 가중치가 가장 작은 엣지를 선택(union-find로 판단)  \n",
    "2. 선택된 엣지의 집합을 병합(union-find를 실행)  \n",
    "3. 모든 집합이 합쳐질 때까지 1,2번 실행  \n",
    "4. 선택된 엣지의 가중치 합 출력 끝.  \n",
    "\n"
   ]
  },
  {
   "cell_type": "code",
   "execution_count": 3,
   "id": "3d16fc8a",
   "metadata": {},
   "outputs": [
    {
     "name": "stdout",
     "output_type": "stream",
     "text": [
      "[4, 0, -5, 1, 2]\n",
      "the root is 2\n",
      "[2, 2, -5, 2, 2]\n"
     ]
    }
   ],
   "source": [
    "class DisjointSet:\n",
    "    def __init__(self, vnum):\n",
    "        self.parent=[-1 for _ in range(vnum)]\n",
    "\n",
    "    def simple_find(self, i):\n",
    "        while self.parent[i] >= 0:\n",
    "            i=self.parent[i]\n",
    "        return i\n",
    "\n",
    "    def simple_union(self, i, j):\n",
    "        self.parent[i]=j\n",
    "\n",
    "    def collapsing_find(self, i):\n",
    "        root=trail=lead=None\n",
    "        root=i\n",
    "        while self.parent[root] >= 0:\n",
    "            root=self.parent[root]\n",
    "\n",
    "        trail=i\n",
    "        while trail != root:\n",
    "            lead=self.parent[trail]\n",
    "            self.parent[trail]=root\n",
    "            trail=lead\n",
    "\n",
    "        return root\n",
    "\n",
    "    def weighted_union(self, i, j):\n",
    "        temp_cnt=self.parent[i]+self.parent[j]\n",
    "\n",
    "        if self.parent[i] > self.parent[j]:\n",
    "            self.parent[i]=j\n",
    "            self.parent[j]=temp_cnt\n",
    "        else:\n",
    "            self.parent[j]=i\n",
    "            self.parent[i]=temp_cnt\n",
    "\n",
    "if __name__==\"__main__\":\n",
    "    ds=DisjointSet(5)\n",
    "    ds.parent[2]=-5\n",
    "    ds.parent[4]=2\n",
    "    ds.parent[0]=4\n",
    "    ds.parent[1]=0\n",
    "    ds.parent[3]=1\n",
    "    print(ds.parent)\n",
    "    print(\"the root is {}\".format(ds.collapsing_find(3)))\n",
    "    print(ds.parent)"
   ]
  },
  {
   "cell_type": "code",
   "execution_count": 4,
   "id": "1fe17ce4",
   "metadata": {},
   "outputs": [
    {
     "name": "stdout",
     "output_type": "stream",
     "text": [
      "(0, 2) : 2\n",
      "(3, 4) : 4\n",
      "(1, 2) : 5\n",
      "(2, 3) : 7\n",
      "(3, 5) : 14\n"
     ]
    }
   ],
   "source": [
    "class Edge:\n",
    "    def __init__(self, u, v, w):\n",
    "        self.u=u\n",
    "        self.v=v\n",
    "        self.w=w\n",
    "\n",
    "class Graph:\n",
    "    def __init__(self, vertex_num):\n",
    "        self.adj_list=[[] for _ in range(vertex_num)]\n",
    "        self.edge_list=[]\n",
    "\n",
    "        self.vertex_num=vertex_num\n",
    "\n",
    "    def add_edge(self, u, v, weight):\n",
    "        self.adj_list[u].append(v)\n",
    "        self.adj_list[v].append(u)\n",
    "\n",
    "        self.edge_list.append(Edge(u, v, weight))\n",
    "\n",
    "    def MST_kruskal(self):\n",
    "        mst=Graph(self.vertex_num)        \n",
    "        ds=DisjointSet(self.vertex_num)\n",
    "        self.edge_list.sort(key=lambda e: e.w)\n",
    "        mst_edge_num=0\n",
    "        edge_idx=0\n",
    "\n",
    "        while mst_edge_num < self.vertex_num-1:\n",
    "            edge=self.edge_list[edge_idx]\n",
    "            if ds.collapsing_find(edge.u) != ds.collapsing_find(edge.v):\n",
    "                mst.add_edge(edge.u, edge.v, edge.w)\n",
    "                ds.weighted_union(ds.collapsing_find(edge.u), ds.collapsing_find(edge.v))\n",
    "                mst_edge_num+=1\n",
    "            edge_idx+=1\n",
    "\n",
    "        return mst\n",
    "\n",
    "    def print_edges(self):\n",
    "        for edge in self.edge_list:\n",
    "            print(\"({}, {}) : {}\".format(edge.u, edge.v, edge.w))\n",
    "\n",
    "if __name__==\"__main__\":\n",
    "    g=Graph(6)\n",
    "\n",
    "    g.add_edge(0, 1, 10)\n",
    "    g.add_edge(0, 2, 2)\n",
    "    g.add_edge(0, 3, 8)\n",
    "    g.add_edge(1, 2, 5)\n",
    "    g.add_edge(1, 4, 12)\n",
    "    g.add_edge(2, 3, 7)\n",
    "    g.add_edge(2, 4, 17)\n",
    "    g.add_edge(3, 4, 4)\n",
    "    g.add_edge(3, 5, 14)\n",
    "\n",
    "    mst=g.MST_kruskal()\n",
    "\n",
    "    mst.print_edges()\n",
    "    "
   ]
  }
 ],
 "metadata": {
  "kernelspec": {
   "display_name": "data-structures-with-python",
   "language": "python",
   "name": "python3"
  },
  "language_info": {
   "codemirror_mode": {
    "name": "ipython",
    "version": 3
   },
   "file_extension": ".py",
   "mimetype": "text/x-python",
   "name": "python",
   "nbconvert_exporter": "python",
   "pygments_lexer": "ipython3",
   "version": "3.10.18"
  }
 },
 "nbformat": 4,
 "nbformat_minor": 5
}
