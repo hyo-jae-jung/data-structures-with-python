{
 "cells": [
  {
   "cell_type": "markdown",
   "id": "80b06c53",
   "metadata": {},
   "source": [
    "### queue\n",
    "\n",
    ">멀티스레드 환경의 **동기화**를 위해 설계  \n",
    "내부 Lock을 사용하여 경쟁 조건을 방지  \n",
    "\n",
    "queue 파일에서 1 ~ 11번째 줄만 봐도 어떤 목적인지 추측 가능  \n",
    "\n",
    "    queue.py\n",
    "    '''A multi-producer, multi-consumer queue.'''\n",
    "\n",
    "    import threading\n",
    "    import types\n",
    "    from collections import deque\n",
    "    from heapq import heappush, heappop\n",
    "    from time import monotonic as time\n",
    "    try:\n",
    "        from _queue import SimpleQueue\n",
    "    except ImportError:\n",
    "        SimpleQueue = None\n",
    "\n",
    "Queue, FifoQueue(Stack), PriorityQueue(Heap) 클래스 각각 존재. 목적에 맞게 선택  \n",
    "\n",
    "특징은 put이나 get 메소드의 block, timeout 인자 설정으로 멀티스레드 환경에 맞게 적용  \n",
    "\n",
    "https://docs.python.org/3/library/queue.html  \n"
   ]
  },
  {
   "cell_type": "markdown",
   "id": "7b4644e6",
   "metadata": {},
   "source": [
    "### threading  \n",
    "\n",
    ">단일 프로세스 내 여러 개 스레드 실행 목적   \n",
    "\n",
    "#### 주의  \n",
    " - 파이썬에서는 GIL 때문에 CPU바운드 작업은 멀티쓰레드로 성능 효과를 볼 수 없고 I/O바운드만 효과 있음  \n",
    " - 적절한 쓰레드 개수 사용이 중요. 너무 많으면 오버헤드가 커져 성능 저하  \n",
    "\n",
    "멀티스레드 구현 방법은 1_produce_consumer.py 를 응용 및 docs를 참고  \n",
    "멀티프로세스도 구현 방식은 비슷함  \n",
    "\n",
    "https://docs.python.org/ko/3.13/library/threading.html#threading.Thread.daemon"
   ]
  }
 ],
 "metadata": {
  "kernelspec": {
   "display_name": "data-structures-with-python",
   "language": "python",
   "name": "python3"
  },
  "language_info": {
   "codemirror_mode": {
    "name": "ipython",
    "version": 3
   },
   "file_extension": ".py",
   "mimetype": "text/x-python",
   "name": "python",
   "nbconvert_exporter": "python",
   "pygments_lexer": "ipython3",
   "version": "3.10.18"
  }
 },
 "nbformat": 4,
 "nbformat_minor": 5
}
