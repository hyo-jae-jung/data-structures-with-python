{
 "cells": [
  {
   "cell_type": "markdown",
   "id": "28ac2163",
   "metadata": {},
   "source": [
    "자바스크립트는 싱글 스레드에서 작동하는 비동기 언어  \n",
    "setTimeout이 가능한 이유는 내부적으로 작동하는 스레드가 하나 더 있기 때문  \n",
    "\n",
    "기본적으로 콜 스택에 스택 프레임을 만들고 실행  \n",
    "setTimeout도 콜 스택에 스택 프레임을 만드는데 콜백 함수를 내부 스레드에 저장 및 대기  \n",
    "setTimeout은 콜 스택에서 사라짐  \n",
    "타이머 종료 후 콜백 함수는 큐에 추가  \n",
    "콜 스택이 비어있다면 큐에 있는 콜백 함수를 콜 스택에 스택 프레임을 만들고 실행  \n",
    "콜 스택이 비어있지 않는다면? 콜백 함수 실행X  "
   ]
  }
 ],
 "metadata": {
  "language_info": {
   "name": "python"
  }
 },
 "nbformat": 4,
 "nbformat_minor": 5
}
