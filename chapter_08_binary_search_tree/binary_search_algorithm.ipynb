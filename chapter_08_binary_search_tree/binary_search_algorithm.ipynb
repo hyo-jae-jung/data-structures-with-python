{
 "cells": [
  {
   "cell_type": "markdown",
   "id": "8e7a9311",
   "metadata": {},
   "source": [
    "## Binary Search Algorithm  \n",
    "\n",
    "원소가 정렬 돼있을 때, 분할 정복 방법으로 target에 접근  \n",
    "중간 index를 찾은 후 해당 index를 기준으로 배열의 절반씩 날리면서 target으로 접근  \n",
    "검색 대상이 회차마다 절반씩 사라짐 : O($\\log_2 N$)\n"
   ]
  },
  {
   "cell_type": "code",
   "execution_count": null,
   "id": "72a6c39e",
   "metadata": {},
   "outputs": [
    {
     "name": "stdout",
     "output_type": "stream",
     "text": [
      "7\n"
     ]
    }
   ],
   "source": [
    "# standard binary search\n",
    "\n",
    "arr = [1,2,2,3,3,3,4,4,4,4,5,5,5,6,6,7]\n",
    "\n",
    "left = 0\n",
    "right = len(arr) - 1\n",
    "target = 4\n",
    "\n",
    "while left <= right:\n",
    "    mid = (left+right)//2\n",
    "    if arr[mid] == target:\n",
    "        print(mid)\n",
    "        break\n",
    "    if arr[mid] < target:\n",
    "        left = mid + 1\n",
    "    elif arr[mid] > target:\n",
    "        right = mid - 1\n",
    "\n",
    "# 중복 값이 있을 때 처음 위치 보장 X"
   ]
  },
  {
   "cell_type": "code",
   "execution_count": 16,
   "id": "820ab6e4",
   "metadata": {},
   "outputs": [
    {
     "name": "stdout",
     "output_type": "stream",
     "text": [
      "6\n"
     ]
    }
   ],
   "source": [
    "# lower bound\n",
    "\n",
    "arr = [1,2,2,3,3,3,4,4,4,4,5,5,5,6,6,7]\n",
    "\n",
    "left = 0\n",
    "right = len(arr) - 1\n",
    "target = 4\n",
    "\n",
    "while left < right:\n",
    "    mid = (left+right)//2\n",
    "    if arr[mid] < target:\n",
    "        left = mid + 1\n",
    "    else:\n",
    "        right = mid\n",
    "\n",
    "print(right)\n",
    "\n",
    "\n"
   ]
  },
  {
   "cell_type": "code",
   "execution_count": 17,
   "id": "73c52755",
   "metadata": {},
   "outputs": [
    {
     "name": "stdout",
     "output_type": "stream",
     "text": [
      "10\n"
     ]
    }
   ],
   "source": [
    "# upper bound\n",
    "\n",
    "arr = [1,2,2,3,3,3,4,4,4,4,5,5,5,6,6,7]\n",
    "\n",
    "left = 0\n",
    "right = len(arr) - 1\n",
    "target = 4\n",
    "\n",
    "while left < right:\n",
    "    mid = (left+right)//2\n",
    "    if arr[mid] <= target:\n",
    "        left = mid + 1\n",
    "    else:\n",
    "        right = mid\n",
    "\n",
    "print(right)"
   ]
  }
 ],
 "metadata": {
  "kernelspec": {
   "display_name": "Python 3",
   "language": "python",
   "name": "python3"
  },
  "language_info": {
   "codemirror_mode": {
    "name": "ipython",
    "version": 3
   },
   "file_extension": ".py",
   "mimetype": "text/x-python",
   "name": "python",
   "nbconvert_exporter": "python",
   "pygments_lexer": "ipython3",
   "version": "3.10.12"
  }
 },
 "nbformat": 4,
 "nbformat_minor": 5
}
