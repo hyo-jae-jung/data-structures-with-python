{
 "cells": [
  {
   "cell_type": "markdown",
   "id": "585438e2",
   "metadata": {},
   "source": [
    "# Index  \n",
    "\n",
    "### 목적  \n",
    "데이터 검색 속도 향상  \n",
    "\n",
    "### 방법  \n",
    "데이터 환경에 맞는 트리 구조 활용  \n",
    "- 정렬된 데이터를 트리 구조로 빠르게 찾을 수 있는 것을 앎. BST, red black tree 등  \n",
    "- 데이터베이스의 데이터는 하드디스크에 있음.  \n",
    "- 하드디스크 접근은 속도가 느려서 접근 횟수를 줄일 필요 있음.  \n",
    "- 일반적인 BST는 비교 연산과 메모리 접근 횟수가 트리의 높이로 같음.  \n",
    "- 비교 연산 횟수를 늘리고 메모리 접근 횟수를 줄이는 게 효율적.  \n",
    "- m-way 탐색 트리 이용(B-Tree 등)  \n",
    "- 일반적으로 B-Tree, 목적에 따라 다양한 방법이 있음. Hash, R-Tree, Full-Text 등  \n",
    "\n",
    "### 생성 방법(sqlite)  \n",
    "1. 수동 생성  \n",
    "\n",
    "\t\tcreate index <index_name> on <table_name>(attribute name1, attribute name2, ...)  \n",
    "\t\t※ 복수의 어트리뷰트로 복합(composite) 인덱스 생성 가능  \n",
    "\n",
    "2. 자동 생성  \n",
    "\t1. 어트리뷰트 생성 시 primary_key 설정  \n",
    "\t2. 어트리뷰트 생성 시 unique 설정  \n",
    "\n",
    "- 생성 결과  \n",
    "\t- 정렬된 키 값과 연결된 데이터 참조 테이블 생성  \n",
    "\n",
    "### 조회 방법(sqlite)  \n",
    "\n",
    "##### 테이블에 대한 인덱스 조회  \n",
    "\n",
    "\tpragma index_list('table_name')  \n",
    "\n",
    "##### 인덱스에 대한 어트리뷰트 조회  \n",
    "\n",
    "\tPRAGMA index_info('attribute_name')  \n",
    "\n",
    "### 삭제 방법(sqlite)  \n",
    "\n",
    "\tdrop index index_name  \n",
    "\n",
    "※ 수동 생성된 인덱스만 삭제 가능  \n",
    "※ 자동 생성된 인덱스(pk, u)는 해당 속성 제거 필요  \n",
    "\n",
    "### 조건  \n",
    "없음. 데이터 타입에 따른 효율 차이 존재  \n",
    "\n",
    "### 효율  \n",
    "- 높은 [[Cardinality]]  \n",
    "- 잦은 검색  \n",
    "- 낮은 삽입, 수정, 삭제 빈도   \n",
    "- 큰 데이터 크기  \n"
   ]
  },
  {
   "cell_type": "markdown",
   "id": "403e37e4",
   "metadata": {},
   "source": [
    "### m-way tree  \n",
    "\n",
    "1. 서브 트리를 최대 m개 가집니다.  \n",
    "2. 한 노드에서 key는 정렬되어 있습니다.  \n",
    "3. 어떤 키 K의 왼쪽 서브 트리의 모든 키는 K보다 작습니다.  \n",
    "4. 어떤 키 K의 오른쪽 서브 트리의 모든 키는 K보다 큽니다.  \n",
    "5. 서브 트리도 m-way 탐색 트리입니다.  "
   ]
  },
  {
   "cell_type": "markdown",
   "id": "c9d07edf",
   "metadata": {},
   "source": [
    "### B-Tree  \n",
    "\n",
    "1. 2 <= 루트 노드의 서브 트리 개수 <= m  \n",
    "2. upper(m/2) <= 루트를 제외한 노드의 서브 트리 개수 <= m  \n",
    "3. upper(m/2) - 1 <= 루트를 제외한 노드의 키 개수 <= m-1  \n",
    "4. 모든 리프 노드는 같은 레벨에 있습니다.  \n",
    "\n",
    "- 이런 B-tree의 규칙을 지키기 위해 switch, donate, merge 등 연산 실행  "
   ]
  },
  {
   "cell_type": "markdown",
   "id": "0c8563bc",
   "metadata": {},
   "source": [
    "### B+Tree  \n",
    "\n",
    "범위 데이터 검색의 효율성 개선  \n",
    "\n",
    "#### 구조  \n",
    "- 인덱스 노드와 데이터 노드로 구성  \n",
    "- 데이터 노드에 모든 키 값 존재  \n",
    "- 인덱스 노드를 tree search에만 활용  \n",
    "- 인덱스 노드의 값은 서브 트리의 가장 작은 값에 위치  \n",
    "\n",
    "#### 결과  \n",
    "B-tree는 범위 데이터 검색 시 모든 원소에 대해 단일 검색  \n",
    "B+tree는 범위 데이터 검색 시 구간(최대,최소) 검색 후 연결된 데이터 노드를 활용해 모든 값 출력  "
   ]
  }
 ],
 "metadata": {
  "language_info": {
   "name": "python"
  }
 },
 "nbformat": 4,
 "nbformat_minor": 5
}
