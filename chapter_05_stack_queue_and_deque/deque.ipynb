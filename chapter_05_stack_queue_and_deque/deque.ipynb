{
 "cells": [
  {
   "cell_type": "markdown",
   "id": "9505bed6",
   "metadata": {},
   "source": [
    "## ADT  \n",
    "\n",
    "Deque ADT:  \n",
    "    Summary:  \n",
    "        - stack과 queue의 기능이 모두 가능한 객체 생성  \n",
    "    Object:  \n",
    "        -   \n",
    "    Operation  \n",
    "        - is_empty  \n",
    "        - is_full  \n",
    "        - insertFront(data)  \n",
    "        - insertRear(data)  \n",
    "        - popFront()  \n",
    "        - popRear()  \n",
    "        - peekFront()  \n",
    "        - peekRear()  \n",
    "        \n",
    "\n"
   ]
  },
  {
   "cell_type": "markdown",
   "id": "fc81a116",
   "metadata": {},
   "source": [
    "Circular Queue, Double Linked List를 이용해서 각각 구현 가능  \n",
    "\n",
    "\n",
    "\n"
   ]
  },
  {
   "cell_type": "markdown",
   "id": "06231130",
   "metadata": {},
   "source": [
    "python의 deque은 Double Linked List로 만들어짐  \n",
    "그래서 시간 복잡도도 Double Linked List를 따름  \n",
    "\n",
    "### Deque Operation\n",
    "\n",
    "| 연산                      | 시간 복잡도   | 설명                                     |\n",
    "| ----------------------- | -------- | -------------------------------------- |\n",
    "| `append(x)`             | **O(1)** | 오른쪽 끝에 원소 추가                           |\n",
    "| `appendleft(x)`         | **O(1)** | 왼쪽 끝에 원소 추가                            |\n",
    "| `pop()`                 | **O(1)** | 오른쪽 끝에서 원소 제거                          |\n",
    "| `popleft()`             | **O(1)** | 왼쪽 끝에서 원소 제거                           |\n",
    "| `extend(iterable)`      | **O(k)** | 오른쪽 끝에 iterable의 k개 원소 추가              |\n",
    "| `extendleft(iterable)`  | **O(k)** | 왼쪽 끝에 iterable의 k개 원소 추가 (순서 뒤집어서 들어감) |\n",
    "| `clear()`               | **O(1)** | 모든 원소 제거 (내부 참조만 끊음)                   |\n",
    "| `rotate(n)`             | **O(k)** | k = min(n, len(d)-n), 내부 포인터 이동만 하지만 값 복사 발생 가능                               |\n",
    "| `reverse()`             | **O(n)** | 제자리에서 원소 순서 뒤집기                        |\n",
    "| `copy()` (Python 3.5+)  | **O(n)** | 얕은 복사                                  |\n",
    "| `count(x)`              | **O(n)** | 원소를 처음부터 순회하며 개수 세기                    |\n",
    "| `index(x, start, stop)` | **O(n)** | 순차 검색으로 index 찾기                       |\n",
    "| `remove(value)`         | **O(n)** | value를 찾고 제거                           |\n",
    "| `__getitem__(i)`        | **O(1)** | 인덱스로 단일 원소 접근 (CPython은 블록 구조라 상수 시간)  |\n",
    "| `__setitem__(i, value)` | **O(1)** | 인덱스로 단일 원소 대입                          |\n",
    "| `__delitem__(i)`        | **O(n)** | 중간 원소 삭제는 shift 필요                     |\n",
    "| `insert(i, value)`      | **O(n)** | 중간 삽입 시 shift 필요                       |\n",
    "| `x in deque`            | **O(n)** | membership test도 순차 검색                 |\n",
    "| `len(d)`                | **O(1)** | 길이 반환은 상수 시간                           |\n"
   ]
  },
  {
   "cell_type": "markdown",
   "id": "b1a30623",
   "metadata": {},
   "source": [
    "Circular Queue로 만들면 중간 값 인덱싱도 O(1) 할 수 있을 것 같은데  "
   ]
  }
 ],
 "metadata": {
  "language_info": {
   "name": "python"
  }
 },
 "nbformat": 4,
 "nbformat_minor": 5
}
