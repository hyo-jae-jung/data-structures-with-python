{
 "cells": [
  {
   "cell_type": "markdown",
   "id": "d7522ead",
   "metadata": {},
   "source": [
    "## ADT  \n",
    "\n",
    "Stack ADT:  \n",
    "    Object:  \n",
    "        - LIFO: list  \n",
    "    Operation:  \n",
    "        - check empty: F - is_empty(), I - None, O - boolean  \n",
    "        - push value to LIFO: F - push(data), I - data, O - None  \n",
    "        - pop value to LIFO: F - pop(), I - None, O - last data  \n",
    "        - peek value to LIFO: F - peek(), I - None, O - last data  "
   ]
  },
  {
   "cell_type": "code",
   "execution_count": 3,
   "id": "0a0934d6",
   "metadata": {},
   "outputs": [],
   "source": [
    "class Stack:\n",
    "    def __init__(self):\n",
    "        self.container = list()\n",
    "\n",
    "    def empty(self):\n",
    "        if not self.container:\n",
    "            return True\n",
    "        else:\n",
    "            return False\n",
    "\n",
    "    def push(self, data):\n",
    "        self.container.append(data)\n",
    "\n",
    "    def pop(self):\n",
    "        if self.empty():\n",
    "            return None\n",
    "        return self.container.pop()\n",
    "\n",
    "    def peek(self):\n",
    "        if self.empty():\n",
    "            return None\n",
    "        return self.container[-1]\n"
   ]
  },
  {
   "cell_type": "code",
   "execution_count": 10,
   "id": "6371b072",
   "metadata": {},
   "outputs": [
    {
     "name": "stdout",
     "output_type": "stream",
     "text": [
      "True\n",
      "[1]\n",
      "[1, 2]\n",
      "[1, 2, 3]\n",
      "[1, 2, 3, 4]\n",
      "[1, 2, 3, 4, 5]\n",
      "5\n",
      "5 [1, 2, 3, 4]\n",
      "4 [1, 2, 3]\n",
      "3 [1, 2]\n",
      "2 [1]\n",
      "1 []\n"
     ]
    }
   ],
   "source": [
    "s = Stack()\n",
    "\n",
    "print(s.empty())\n",
    "\n",
    "s.push(1)\n",
    "print(s.container)\n",
    "s.push(2)\n",
    "print(s.container)\n",
    "s.push(3)\n",
    "print(s.container)\n",
    "s.push(4)\n",
    "print(s.container)\n",
    "s.push(5)\n",
    "print(s.container)\n",
    "\n",
    "print(s.peek())\n",
    "\n",
    "while not s.empty():\n",
    "    print(s.pop(), end=' ')\n",
    "    print(s.container)\n"
   ]
  }
 ],
 "metadata": {
  "kernelspec": {
   "display_name": "Python 3",
   "language": "python",
   "name": "python3"
  },
  "language_info": {
   "codemirror_mode": {
    "name": "ipython",
    "version": 3
   },
   "file_extension": ".py",
   "mimetype": "text/x-python",
   "name": "python",
   "nbconvert_exporter": "python",
   "pygments_lexer": "ipython3",
   "version": "3.10.12"
  }
 },
 "nbformat": 4,
 "nbformat_minor": 5
}
