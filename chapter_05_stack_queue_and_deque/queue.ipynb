{
 "cells": [
  {
   "cell_type": "markdown",
   "id": "bb703072",
   "metadata": {},
   "source": [
    "## ADT  \n",
    "\n",
    "Queue ADT:  \n",
    "    Object:  \n",
    "        - FIFO : list  \n",
    "    Operation:  \n",
    "        - check empty: F - is_empty(), I - None, O - boolean  \n",
    "        - check full: F - is_full(), I - None, O - boolean  \n",
    "        - push value to FIFO: F - enqueue(data), I - data, O - None  \n",
    "        - pop first value to FIFO: F - dequeue(), I - None, O - first data  \n",
    "        - peek value to FIFO: F - peek(), I - None, O - first data  "
   ]
  },
  {
   "cell_type": "markdown",
   "id": "8db46699",
   "metadata": {},
   "source": [
    "Subject: Circular Queue  \n",
    "    Summary:  \n",
    "        None으로 채워진 동적 배열 공간을 만들고 포인터를 사용해서 FIFO 구현  \n",
    "        FIFO = First In First Out  \n",
    "    Object:  \n",
    "        MAXSIZE:int  \n",
    "        container:list = [None for _ in range(MAXSIZE)]  \n",
    "        front:int = 0  \n",
    "        rear:int = 0  \n",
    "    Operation:  \n",
    "        - is empty: I-None,O-boolean  \n",
    "        - step forward  \n",
    "        - is full  \n",
    "        - enqueue  \n",
    "        - dequeue  \n",
    "        - peek  \n"
   ]
  },
  {
   "cell_type": "code",
   "execution_count": 10,
   "id": "df09f2e2",
   "metadata": {},
   "outputs": [],
   "source": [
    "class CQueue:\n",
    "    MAXSIZE = 10\n",
    "    def __init__(self):\n",
    "        self.container = [None for _ in range(CQueue.MAXSIZE)]\n",
    "        self.front = 0\n",
    "        self.rear = 0\n",
    "\n",
    "    def is_empty(self):\n",
    "        if self.front == self.rear:\n",
    "            return True \n",
    "        return False\n",
    "    \n",
    "    def __step_forward(self, x):\n",
    "        x+=1\n",
    "        if x >= CQueue.MAXSIZE:\n",
    "            x = 0\n",
    "        return x\n",
    "    \n",
    "    def is_full(self):\n",
    "        next = self.__step_forward(self.rear)\n",
    "        if next == self.front:\n",
    "            return True\n",
    "        return False\n",
    "    \n",
    "    def enqueue(self, data):\n",
    "        if self.is_full():\n",
    "            raise Exception(\"The queue is full\")\n",
    "        self.container[self.rear] = data \n",
    "        self.rear = self.__step_forward(self.rear)\n",
    "\n",
    "    def dequeue(self):\n",
    "        if self.is_empty():\n",
    "            raise Exception(\"The queue is empty\")\n",
    "        ret = self.container[self.front]\n",
    "        self.front = self.__step_forward(self.front)\n",
    "        return ret\n",
    "    \n",
    "    def peek(self):\n",
    "        if self.is_empty():\n",
    "            raise Exception(\"The queue is empty\")\n",
    "        return self.container[self.front]\n",
    "    \n"
   ]
  },
  {
   "cell_type": "code",
   "execution_count": 18,
   "id": "8387a95b",
   "metadata": {},
   "outputs": [
    {
     "name": "stdout",
     "output_type": "stream",
     "text": [
      "[0, 1, 2, 3, 4, 5, 6, 7, None, None]\n",
      "0 [0, 1, 2, 3, 4, 5, 6, 7, None, None] 1 8\n",
      "1 [0, 1, 2, 3, 4, 5, 6, 7, None, None] 2 8\n",
      "2 [0, 1, 2, 3, 4, 5, 6, 7, None, None] 3 8\n",
      "3 [0, 1, 2, 3, 4, 5, 6, 7, None, None] 4 8\n",
      "4 [0, 1, 2, 3, 4, 5, 6, 7, None, None] 5 8\n",
      "5\n",
      "[0, 1, 2, 3, 4, 5, 6, 7, 8, None] 5 9\n",
      "[0, 1, 2, 3, 4, 5, 6, 7, 8, 9] 5 0\n",
      "[10, 1, 2, 3, 4, 5, 6, 7, 8, 9] 5 1\n",
      "[10, 11, 2, 3, 4, 5, 6, 7, 8, 9] 5 2\n",
      "[10, 11, 12, 3, 4, 5, 6, 7, 8, 9] 5 3\n",
      "[10, 11, 12, 13, 4, 5, 6, 7, 8, 9] 5 4\n",
      "True\n",
      "5 [10, 11, 12, 13, 4, 5, 6, 7, 8, 9] 6 4\n",
      "6 [10, 11, 12, 13, 4, 5, 6, 7, 8, 9] 7 4\n",
      "7 [10, 11, 12, 13, 4, 5, 6, 7, 8, 9] 8 4\n",
      "8 [10, 11, 12, 13, 4, 5, 6, 7, 8, 9] 9 4\n",
      "9 [10, 11, 12, 13, 4, 5, 6, 7, 8, 9] 0 4\n",
      "10 [10, 11, 12, 13, 4, 5, 6, 7, 8, 9] 1 4\n",
      "11 [10, 11, 12, 13, 4, 5, 6, 7, 8, 9] 2 4\n",
      "12 [10, 11, 12, 13, 4, 5, 6, 7, 8, 9] 3 4\n",
      "13 [10, 11, 12, 13, 4, 5, 6, 7, 8, 9] 4 4\n",
      "\n",
      "10 11 12 13 4 5 6 7 8 9 "
     ]
    }
   ],
   "source": [
    "cq = CQueue()\n",
    "\n",
    "for i in range(8):\n",
    "    cq.enqueue(i)\n",
    "\n",
    "print(cq.container)\n",
    "\n",
    "for i in range(5):\n",
    "    print(cq.dequeue(),end=\" \")\n",
    "    print(cq.container,cq.front,cq.rear)\n",
    "\n",
    "print(cq.peek())\n",
    "\n",
    "for i in range(8,14):\n",
    "    cq.enqueue(i)\n",
    "    print(cq.container,cq.front,cq.rear)\n",
    "\n",
    "print(cq.is_full())\n",
    "\n",
    "while not cq.is_empty():\n",
    "    print(cq.dequeue(),end=\" \")\n",
    "    print(cq.container,cq.front,cq.rear)\n",
    "\n",
    "print()\n",
    "for i in range(10):\n",
    "    print(cq.container[i], end=\" \")"
   ]
  },
  {
   "cell_type": "markdown",
   "id": "29c80722",
   "metadata": {},
   "source": [
    "container 공간 하나 낭비 시키는 이유  \n",
    "empty 조건과 full 조건을 차별화 하기 위해서  \n"
   ]
  }
 ],
 "metadata": {
  "kernelspec": {
   "display_name": "Python 3",
   "language": "python",
   "name": "python3"
  },
  "language_info": {
   "codemirror_mode": {
    "name": "ipython",
    "version": 3
   },
   "file_extension": ".py",
   "mimetype": "text/x-python",
   "name": "python",
   "nbconvert_exporter": "python",
   "pygments_lexer": "ipython3",
   "version": "3.10.12"
  }
 },
 "nbformat": 4,
 "nbformat_minor": 5
}
