{
 "cells": [
  {
   "cell_type": "markdown",
   "id": "dec7a1d8",
   "metadata": {},
   "source": [
    "비주기 방향 그래프 : DAG(Directed Acyclic Graph)  \n",
    "\n",
    ">단계별 요구 사항이 있는 프로세스에서 모든 절차가 요구 사항를 충족하는 진행 방법 계산  \n",
    "\n",
    "1. 포인트는 정점 별 진입차수(indegree)가 0인 정점 순서대로 출력  \n",
    "2. 출력된 정점에 연결된 정점의 진입차수 감소  \n",
    "3. 모든 정점 출력 할 때까지 1,2번 반복 끝.  \n"
   ]
  },
  {
   "cell_type": "code",
   "execution_count": 4,
   "id": "9958c384",
   "metadata": {},
   "outputs": [
    {
     "name": "stdout",
     "output_type": "stream",
     "text": [
      "1  0  4  2  3  6  5  "
     ]
    }
   ],
   "source": [
    "class DAG:\n",
    "    def __init__(self, vertex_num):\n",
    "        self.adj_list=[[] for _ in range(vertex_num)]\n",
    "        self.visited=[False for _ in range(vertex_num)]\n",
    "\n",
    "    def add_edge(self, u, v):\n",
    "        # u : tail, v : head\n",
    "        self.adj_list[u].append(v)\n",
    "\n",
    "    def init_visited(self):\n",
    "        for i in range(len(self.visited)):\n",
    "            self.visited[i]=False\n",
    "    \n",
    "    def dfs(self, v, ts_list):\n",
    "        self.visited[v]=True\n",
    "\n",
    "        adj_v = self.adj_list[v]\n",
    "        for u in adj_v:\n",
    "            if not self.visited[u]:\n",
    "                self.dfs(u, ts_list)\n",
    "\n",
    "        ts_list.append(v)        \n",
    "\n",
    "    def topological_sort(self):\n",
    "        self.init_visited()\n",
    "        ts_list=[]\n",
    "        for i in range(len(self.visited)):\n",
    "            if not self.visited[i]:\n",
    "                self.dfs(i, ts_list)\n",
    "        ts_list.reverse()\n",
    "        return ts_list\n",
    "\n",
    "if __name__==\"__main__\":\n",
    "    d=DAG(7)\n",
    "    d.add_edge(0, 4)\n",
    "    d.add_edge(1, 3)\n",
    "    d.add_edge(1, 4)\n",
    "    d.add_edge(2, 3)\n",
    "    d.add_edge(3, 5)\n",
    "    d.add_edge(3, 6)\n",
    "    d.add_edge(4, 2)\n",
    "\n",
    "    ts_list=d.topological_sort()\n",
    "\n",
    "    for i in ts_list:\n",
    "        print(i, end=\"  \")\n"
   ]
  }
 ],
 "metadata": {
  "kernelspec": {
   "display_name": "data-structures-with-python",
   "language": "python",
   "name": "python3"
  },
  "language_info": {
   "codemirror_mode": {
    "name": "ipython",
    "version": 3
   },
   "file_extension": ".py",
   "mimetype": "text/x-python",
   "name": "python",
   "nbconvert_exporter": "python",
   "pygments_lexer": "ipython3",
   "version": "3.10.18"
  }
 },
 "nbformat": 4,
 "nbformat_minor": 5
}
