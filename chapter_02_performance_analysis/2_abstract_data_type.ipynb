{
 "cells": [
  {
   "cell_type": "markdown",
   "id": "d9459919",
   "metadata": {},
   "source": [
    "데이터 타입(data type)이란 데이터를 저장하는 객체(object)와 객체가 할 수 있는 연산(operation)의 집합  "
   ]
  },
  {
   "cell_type": "markdown",
   "id": "af26ca33",
   "metadata": {},
   "source": [
    "### ADT  \n",
    "\n",
    "추상 데이터 타입(ADT, Abstract Data Type)은 데이터의 구조와 그 위에서 수행할 수 있는 연산을 정의한 개념적인 모델입니다. 즉, \"데이터가 어떻게 저장되는지\"가 아니라 \"어떻게 사용될 수 있는지\"에 초점을 맞춘 설계 개념입니다.\n",
    "\n",
    "✅ 핵심 개념\n",
    "ADT는 인터페이스만 정의하고, 구현은 숨긴다.\n",
    "\n",
    "사용자는 내부 구현(배열이든 연결 리스트든)을 몰라도 됨.\n",
    "\n",
    "사용자는 제공되는 연산을 통해 데이터에 접근하고 조작함.\n",
    "\n",
    "예시: 우리가 list.append()를 쓸 때, 내부가 배열인지 연결 리스트인지 신경 쓰지 않음.\n",
    "\n",
    "\n",
    "💡 구현 vs 추상화\n",
    "\n",
    "|구분|추상 데이터 타입 (ADT)|자료구조 (Data Structure)|\n",
    "|---|---|---|\n",
    "|개념|무엇을 할 수 있는지|어떻게 구현할 것인지|\n",
    "|예시|스택 (ADT)|배열로 구현한 스택, 연결 리스트로 구현한 스택|\n",
    "|관점|사용자 관점 (인터페이스)|개발자 관점 (내부 동작)|\n",
    "\n",
    "\n",
    "📘 간단 예: Stack ADT 정의\n",
    "\n",
    "    Stack ADT:\n",
    "    - push(x): 스택에 x를 추가\n",
    "    - pop(): 마지막으로 추가된 항목 제거 및 반환\n",
    "    - peek(): 마지막 항목 확인\n",
    "    - isEmpty(): 비었는지 확인\n",
    "\n",
    "→ 이걸 배열로도, 연결 리스트로도 구현할 수 있음.\n",
    "\n",
    "✅ 요약\n",
    "ADT는 \"어떤 동작이 가능한가?\"를 정의하는 개념.\n",
    "\n",
    "구현 방식과는 독립적.\n",
    "\n",
    "자료구조는 ADT를 구현하는 구체적인 방법."
   ]
  },
  {
   "cell_type": "markdown",
   "id": "2d7b6be0",
   "metadata": {},
   "source": [
    "### example  \n",
    "\n",
    "Stack ADT:  \n",
    "    Object:  \n",
    "        - LIFO : list  \n",
    "    Operation:  \n",
    "        - check empty: F - is_empty(), I - None, O - boolean  \n",
    "        - push value to LIFO: F - push(data), I - data, O - None  \n",
    "        - pop value to LIFO: F - pop(), I - None, O - last data  \n",
    "        - peek value to LIFO: F - peek(), I - None, O - last data  \n",
    "        \n"
   ]
  }
 ],
 "metadata": {
  "language_info": {
   "name": "python"
  }
 },
 "nbformat": 4,
 "nbformat_minor": 5
}
