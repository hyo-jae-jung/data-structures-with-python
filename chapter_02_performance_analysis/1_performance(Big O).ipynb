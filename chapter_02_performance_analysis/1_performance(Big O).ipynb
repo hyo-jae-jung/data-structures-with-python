{
 "cells": [
  {
   "cell_type": "markdown",
   "metadata": {},
   "source": [
    "### 성능 분석  \n",
    "\n",
    "프로그램의 성능을 개선하려면 성능 측정을 해야한다.  \n",
    "절대 시간을 재는 방법을 성능을 측정 할 수 있다.  \n",
    "하지만 환경이 같아야 한다는 제약 조건이 있다.  \n",
    "연산 횟수를 세는 상대적 비교 방법이 있다.  "
   ]
  },
  {
   "cell_type": "code",
   "execution_count": null,
   "metadata": {},
   "outputs": [
    {
     "name": "stdout",
     "output_type": "stream",
     "text": [
      "25\n"
     ]
    }
   ],
   "source": [
    "# operation_count\n",
    "\n",
    "def func(arr, init):    # 연산   빈도수\n",
    "    n = len(arr)        #   1      1\n",
    "    ret = init          #   1      1\n",
    "    for i in range(n):  #   1      n\n",
    "        ret+=arr[i]     #   1      n\n",
    "    return ret          #   1      1\n",
    "                        #       2n + 3\n",
    "arr = [1,2,3,4,5]\n",
    "result = func(arr,10)\n",
    "print(result)"
   ]
  },
  {
   "cell_type": "markdown",
   "metadata": {},
   "source": [
    "func 함수의 연산 횟수는 \n",
    "\n",
    "T(n) = 2n + 3\n",
    "\n",
    "비교적 쉽게 구했지만 일반적인 경우 연산 횟수를 정확하게 기술하기는 쉽지 않다.  \n",
    "코드 성능 분석의 모호함을 없애기 위해 점근적 표기법을 사용한다.  "
   ]
  },
  {
   "cell_type": "markdown",
   "metadata": {},
   "source": [
    "### 점근적 표기법\n",
    "\n",
    "빅오 표기법: O(n)  \n",
    "세타 표기법: Θ(n)  \n",
    "오메가 표기법: Ω(n)  "
   ]
  },
  {
   "cell_type": "markdown",
   "metadata": {},
   "source": [
    "#### 빅오 O(n)\n",
    "\n",
    "모든 n > n0에 대해 0 <= f(n) <= c*g(n)인 양의 성수 c, n0가 존재하면  \n",
    "\n",
    "                    f(n) = O(g(n))  \n",
    "\n",
    "ex)  \n",
    "f(n) = 2n + 3, g(n) = n, c = 3, n0 = 3  \n",
    "\n",
    "cg(n) = 3n, cg(n0) = 3  \n",
    "\n",
    "n0 이후로는 항상 모든 n에 대해 cg(n) >= f(n) >= 0 이기 때문에   \n",
    "\n",
    "f(n) = O(g(n))  \n",
    "2n + 3 = O(n)  \n",
    "\n",
    "2n + 3의 빅오는 n이다.  \n",
    "\n",
    "f(n) 그래프의 증가 추세가 절데 cg(n) = cn을 넘지 않는다는 의미  \n",
    "\n"
   ]
  },
  {
   "cell_type": "markdown",
   "metadata": {},
   "source": [
    "#### 세타 표기법 Θ(n)  \n",
    "\n",
    "모든 n > n0에 대해 c1g(n) <= f(n) <= c2g(n)인 양의 상수 c1,c2,n0가 존재하면  \n",
    "\n",
    "                    f(n) = Θ(g(n))  \n",
    "\n",
    "빅오에서 c1g(n) <= f(n) 가 추가된 형태이며 하한(lower bound)를 의미한다.  \n",
    "하한까지 구하면 더 정확한 성능을 측정 할 수 있지만 실제로는 빅오정도로 정리한다.  \n",
    "                "
   ]
  },
  {
   "cell_type": "markdown",
   "metadata": {},
   "source": [
    "#### 오메가 표기법 Ω(n)  \n",
    "\n",
    "모든 n > n0에 대해 cg(n) <= f(n)인 양의 상수 c,n0가 존재하면  \n",
    "\n",
    "                    f(n) = Ω(g(n))  \n",
    "\n",
    "Ω-표기법은 하한만을 의미한다. 실제로는 잘 사용하지 않는다.  "
   ]
  },
  {
   "cell_type": "markdown",
   "metadata": {},
   "source": [
    "빅오는 좋은 성능 측정 방법이지만 맹신하지말고 벤치마킹 등 실제 성능 테스트도 해야 한다.  \n",
    "ex) 메인 메모리에서 값을 가져오기 vs 하드 디스크에서 값을 가져오기  \n",
    "    수 배에서 수 만배 차이가 날 수 있다.  \n"
   ]
  }
 ],
 "metadata": {
  "kernelspec": {
   "display_name": "Python 3",
   "language": "python",
   "name": "python3"
  },
  "language_info": {
   "codemirror_mode": {
    "name": "ipython",
    "version": 3
   },
   "file_extension": ".py",
   "mimetype": "text/x-python",
   "name": "python",
   "nbconvert_exporter": "python",
   "pygments_lexer": "ipython3",
   "version": "3.10.12"
  }
 },
 "nbformat": 4,
 "nbformat_minor": 2
}
