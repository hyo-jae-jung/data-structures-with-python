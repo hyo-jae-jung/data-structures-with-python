{
 "cells": [
  {
   "cell_type": "markdown",
   "metadata": {},
   "source": [
    "1.1 재귀 함수로 팩토리얼 구현하기"
   ]
  },
  {
   "cell_type": "code",
   "execution_count": 1,
   "metadata": {},
   "outputs": [
    {
     "name": "stdout",
     "output_type": "stream",
     "text": [
      "1\n",
      "2\n",
      "6\n",
      "24\n",
      "120\n"
     ]
    }
   ],
   "source": [
    "def factorial(n):\n",
    "    if n <= 0:\n",
    "        return 1\n",
    "    return n*factorial(n-1)\n",
    "\n",
    "for i in range(1,6):\n",
    "    print(factorial(i))"
   ]
  },
  {
   "cell_type": "markdown",
   "metadata": {},
   "source": [
    "1.2 스택 프레임으로 재귀 함수 이해하기\n",
    "\n",
    "재귀 함수 이용 시, 함수에서 이용하려는 전역변수를 스택 프레임으로 가져오는데 재귀가 끝나지 않으면 변수가 계속 메모리에 쌓여서 RecursionError가 발생한다.\n",
    "\n",
    "※ 전역변수를 스택 프레임에서 사용 시 메모리를 추가 할당"
   ]
  },
  {
   "cell_type": "code",
   "execution_count": null,
   "metadata": {},
   "outputs": [],
   "source": [
    "def add_two(a,b):\n",
    "    c = a + b # 4\n",
    "    return c \n",
    "\n",
    "a = 10 # 1\n",
    "b = 20 # 2\n",
    "result = add_two(a,b) # 3\n",
    "print(result)"
   ]
  },
  {
   "cell_type": "markdown",
   "metadata": {},
   "source": [
    "global frame에 1,2 저장\n",
    "3 호출 시 스택 프레임에 4번 1,2 값 저장\n",
    "return 후 스택 프레임 소멸"
   ]
  },
  {
   "cell_type": "markdown",
   "metadata": {},
   "source": [
    "1.3 순열을 재귀 함수로 구현하기"
   ]
  },
  {
   "cell_type": "code",
   "execution_count": 13,
   "metadata": {},
   "outputs": [
    {
     "name": "stdout",
     "output_type": "stream",
     "text": [
      "[1, 2, 3, 4] 1\n",
      "[1, 2, 4, 3] 2\n",
      "[1, 3, 2, 4] 3\n",
      "[1, 3, 4, 2] 4\n",
      "[1, 4, 3, 2] 5\n",
      "[1, 4, 2, 3] 6\n",
      "[2, 1, 3, 4] 7\n",
      "[2, 1, 4, 3] 8\n",
      "[2, 3, 1, 4] 9\n",
      "[2, 3, 4, 1] 10\n",
      "[2, 4, 3, 1] 11\n",
      "[2, 4, 1, 3] 12\n",
      "[3, 2, 1, 4] 13\n",
      "[3, 2, 4, 1] 14\n",
      "[3, 1, 2, 4] 15\n",
      "[3, 1, 4, 2] 16\n",
      "[3, 4, 1, 2] 17\n",
      "[3, 4, 2, 1] 18\n",
      "[4, 2, 3, 1] 19\n",
      "[4, 2, 1, 3] 20\n",
      "[4, 3, 2, 1] 21\n",
      "[4, 3, 1, 2] 22\n",
      "[4, 1, 3, 2] 23\n",
      "[4, 1, 2, 3] 24\n"
     ]
    }
   ],
   "source": [
    "cnt = 0\n",
    "def permutation(arr,start):\n",
    "    global cnt\n",
    "    if len(arr)-1 == start:\n",
    "        cnt+=1\n",
    "        print(arr,cnt)\n",
    "        return \n",
    "    \n",
    "    for i in range(start,len(arr)):\n",
    "        arr[start],arr[i] = arr[i],arr[start]\n",
    "        permutation(arr,start+1)\n",
    "        arr[start],arr[i] = arr[i],arr[start]\n",
    "\n",
    "permutation([1,2,3,4],0)\n"
   ]
  },
  {
   "cell_type": "code",
   "execution_count": 11,
   "metadata": {},
   "outputs": [
    {
     "name": "stdout",
     "output_type": "stream",
     "text": [
      "(1, 2, 3, 4)\n",
      "(1, 2, 4, 3)\n",
      "(1, 3, 2, 4)\n",
      "(1, 3, 4, 2)\n",
      "(1, 4, 2, 3)\n",
      "(1, 4, 3, 2)\n",
      "(2, 1, 3, 4)\n",
      "(2, 1, 4, 3)\n",
      "(2, 3, 1, 4)\n",
      "(2, 3, 4, 1)\n",
      "(2, 4, 1, 3)\n",
      "(2, 4, 3, 1)\n",
      "(3, 1, 2, 4)\n",
      "(3, 1, 4, 2)\n",
      "(3, 2, 1, 4)\n",
      "(3, 2, 4, 1)\n",
      "(3, 4, 1, 2)\n",
      "(3, 4, 2, 1)\n",
      "(4, 1, 2, 3)\n",
      "(4, 1, 3, 2)\n",
      "(4, 2, 1, 3)\n",
      "(4, 2, 3, 1)\n",
      "(4, 3, 1, 2)\n",
      "(4, 3, 2, 1)\n"
     ]
    }
   ],
   "source": [
    "from itertools import permutations as perm\n",
    "\n",
    "for i in perm([1,2,3,4],4):\n",
    "    print(i)\n"
   ]
  }
 ],
 "metadata": {
  "kernelspec": {
   "display_name": "Python 3",
   "language": "python",
   "name": "python3"
  },
  "language_info": {
   "codemirror_mode": {
    "name": "ipython",
    "version": 3
   },
   "file_extension": ".py",
   "mimetype": "text/x-python",
   "name": "python",
   "nbconvert_exporter": "python",
   "pygments_lexer": "ipython3",
   "version": "3.10.12"
  }
 },
 "nbformat": 4,
 "nbformat_minor": 2
}
